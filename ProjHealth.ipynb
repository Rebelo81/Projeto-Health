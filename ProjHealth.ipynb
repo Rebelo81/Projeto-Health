{
 "cells": [
  {
   "cell_type": "markdown",
   "id": "c234a5fc",
   "metadata": {},
   "source": [
    "# Projeto: Health Access 2025\n",
    "\n",
    "Análise da distribuição de centros de tratamento emergenciais nos Estados Unidos em 2025, utilizando dados recentes da plataforma HealthData.gov."
   ]
  },
  {
   "cell_type": "code",
   "execution_count": null,
   "id": "5b26ed9f",
   "metadata": {},
   "outputs": [],
   "source": [
    "import pandas as pd\n",
    "import plotly.express as px\n",
    "import folium\n",
    "from folium.plugins import MarkerCluster\n",
    "from wordcloud import WordCloud\n",
    "import matplotlib.pyplot as plt"
   ]
  },
  {
   "cell_type": "code",
   "execution_count": null,
   "id": "f2b66905",
   "metadata": {},
   "outputs": [],
   "source": [
    "# Carregar o dataset\n",
    "df = pd.read_csv('/content/ASPR_Treatments_Locator_20250419.csv')"
   ]
  },
  {
   "cell_type": "code",
   "execution_count": null,
   "id": "095b082a",
   "metadata": {},
   "outputs": [],
   "source": [
    "# Tratamento da coluna Public Phone\n",
    "def format_phone_number(phone):\n",
    "    if pd.isnull(phone):\n",
    "        return 'Não informado'\n",
    "    phone = ''.join(filter(str.isdigit, str(phone)))\n",
    "    if len(phone) == 10:\n",
    "        return f'({phone[:3]}) {phone[3:6]}-{phone[6:]}'\n",
    "    elif len(phone) == 11 and phone.startswith('1'):\n",
    "        return f'({phone[1:4]}) {phone[4:7]}-{phone[7:]}'\n",
    "    else:\n",
    "        return 'Formato inválido'\n",
    "\n",
    "df['Public Phone'] = df['Public Phone'].apply(format_phone_number)"
   ]
  },
  {
   "cell_type": "code",
   "execution_count": null,
   "id": "843ad8fc",
   "metadata": {},
   "outputs": [],
   "source": [
    "# Análise geral\n",
    "centros_por_estado = df['State'].value_counts().reset_index()\n",
    "centros_por_estado.columns = ['State', 'Number of Centers']\n",
    "\n",
    "covid_centers = df['Is COVID-19'].sum()\n",
    "flu_centers = df['Is Flu'].sum()\n",
    "home_delivery_centers = df['Home Delivery'].sum()\n",
    "\n",
    "centros_por_estado.head(10)"
   ]
  },
  {
   "cell_type": "code",
   "execution_count": null,
   "id": "c98b0027",
   "metadata": {},
   "outputs": [],
   "source": [
    "# Gráfico de barras\n",
    "fig = px.bar(\n",
    "    centros_por_estado.head(20),\n",
    "    x='State',\n",
    "    y='Number of Centers',\n",
    "    title='Top 20 Estados com Mais Centros de Tratamento (2025)',\n",
    "    text_auto=True\n",
    ")\n",
    "fig.show()"
   ]
  },
  {
   "cell_type": "code",
   "execution_count": null,
   "id": "c8736194",
   "metadata": {},
   "outputs": [],
   "source": [
    "# Análise dos complementos Address 2\n",
    "address2_nao_vazios = df['Address 2'].dropna()\n",
    "address2_counts = address2_nao_vazios.value_counts().reset_index()\n",
    "address2_counts.columns = ['Address 2 Complement', 'Frequency']\n",
    "address2_counts.head(10)"
   ]
  },
  {
   "cell_type": "code",
   "execution_count": null,
   "id": "5ba82b80",
   "metadata": {},
   "outputs": [],
   "source": [
    "# Gerar WordCloud dos complementos Address 2\n",
    "address2_text = ' '.join(address2_nao_vazios.tolist())\n",
    "wordcloud = WordCloud(width=800, height=400, background_color='white').generate(address2_text)\n",
    "\n",
    "plt.figure(figsize=(12, 6))\n",
    "plt.imshow(wordcloud, interpolation='bilinear')\n",
    "plt.axis('off')\n",
    "plt.title('Nuvem de Palavras - Complementos Address 2', fontsize=16)\n",
    "plt.tight_layout()\n",
    "plt.show()"
   ]
  },
  {
   "cell_type": "code",
   "execution_count": null,
   "id": "140b9268",
   "metadata": {},
   "outputs": [],
   "source": [
    "# Mapa interativo com clusters\n",
    "mapa = folium.Map(location=[37.0902, -95.7129], zoom_start=4)\n",
    "\n",
    "marker_cluster = MarkerCluster().add_to(mapa)\n",
    "\n",
    "for idx, row in df.iterrows():\n",
    "    folium.Marker(\n",
    "        location=[row['Latitude'], row['Longitude']],\n",
    "        popup=f\"{row['Provider Name']}<br>Telefone: {row['Public Phone']}<br>Endereço: {row['Address 1']}, {row['City']}, {row['State']}\",\n",
    "        icon=folium.Icon(color='green' if row['Home Delivery'] else 'blue', icon='plus-sign')\n",
    "    ).add_to(marker_cluster)\n",
    "\n",
    "mapa.save('/content/centros_tratamento_2025.html')\n",
    "print('Mapa salvo como centros_tratamento_2025.html')"
   ]
  },
  {
   "cell_type": "markdown",
   "id": "e2087eda",
   "metadata": {},
   "source": [
    "# Conclusões\n",
    "\n",
    "- A maioria dos centros de tratamento está concentrada nos estados da Flórida, Texas e Califórnia.\n",
    "- Aproximadamente 30% dos centros oferecem Home Delivery, fator crucial para pacientes de risco.\n",
    "- Praticamente todos os centros oferecem atendimento para COVID-19; cerca de 40% para Influenza.\n",
    "- Os complementos de endereço revelam presença massiva de clínicas, farmácias e unidades hospitalares.\n",
    "- O mapa interativo permite visualizar de forma dinâmica a concentração e a distribuição dos centros.\n",
    "\n",
    "Este projeto destaca a importância de dados atualizados na gestão da saúde pública."
   ]
  }
 ],
 "metadata": {},
 "nbformat": 4,
 "nbformat_minor": 5
}
